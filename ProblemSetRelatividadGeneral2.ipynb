{
  "nbformat": 4,
  "nbformat_minor": 0,
  "metadata": {
    "colab": {
      "provenance": []
    },
    "kernelspec": {
      "name": "python3",
      "display_name": "Python 3"
    },
    "language_info": {
      "name": "python"
    }
  },
  "cells": [
    {
      "cell_type": "markdown",
      "source": [
        "# ProblemSet 3 Relatividad (Parte numérica)\n",
        "\n",
        "Sebastian Yepes Acevedo\n",
        "\n"
      ],
      "metadata": {
        "id": "F-zOMFujaSOS"
      }
    },
    {
      "cell_type": "code",
      "execution_count": null,
      "metadata": {
        "id": "lIL7n-QzER8j",
        "colab": {
          "base_uri": "https://localhost:8080/"
        },
        "outputId": "d1209b6c-ce8c-4bfd-8c8d-a93c035da95b"
      },
      "outputs": [
        {
          "output_type": "stream",
          "name": "stdout",
          "text": [
            "\u001b[?25l   \u001b[90m━━━━━━━━━━━━━━━━━━━━━━━━━━━━━━━━━━━━━━━━\u001b[0m \u001b[32m0.0/88.1 kB\u001b[0m \u001b[31m?\u001b[0m eta \u001b[36m-:--:--\u001b[0m\r\u001b[2K   \u001b[90m━━━━━━━━━━━━━━━━━━━━━━━━━━━━━━━━━━━━━━━━\u001b[0m \u001b[32m88.1/88.1 kB\u001b[0m \u001b[31m5.4 MB/s\u001b[0m eta \u001b[36m0:00:00\u001b[0m\n",
            "\u001b[?25h"
          ]
        }
      ],
      "source": [
        "!pip install -Uq einsteinpy"
      ]
    },
    {
      "cell_type": "code",
      "source": [
        "import sympy as sp\n",
        "import numpy as np\n",
        "from scipy.optimize import newton\n",
        "import einsteinpy.symbolic as es\n",
        "from IPython.display import display, Math"
      ],
      "metadata": {
        "id": "z8_HOwkKIH-a"
      },
      "execution_count": null,
      "outputs": []
    },
    {
      "cell_type": "markdown",
      "source": [
        "## CTR. **Cálculo explícito del tensor de Riemann**"
      ],
      "metadata": {
        "id": "qBKAF6lcYiZN"
      }
    },
    {
      "cell_type": "markdown",
      "source": [
        "A continuación, se calculará con el uso de Einsteinpy los tensores de Riemann de cinco métricas diferentes. En ella se buscará extraer las componentes no nulas de cada métrica."
      ],
      "metadata": {
        "id": "Ozq0hBFqSQ0l"
      }
    },
    {
      "cell_type": "markdown",
      "source": [
        "# Metrica de Minkowski"
      ],
      "metadata": {
        "id": "aurmCc4pnTMU"
      }
    },
    {
      "cell_type": "code",
      "source": [
        "print(\"1. Métrica de Minkowski\")\n",
        "print(\"=\" * 50)\n",
        "\n",
        "x0,r,teta,phi = sp.symbols(r\"x^0 r \\theta \\phi\")\n",
        "gmat = [\n",
        "    [1, 0, 0, 0],\n",
        "    [0, -1, 0, 0],\n",
        "    [0, 0, -r**2, 0],\n",
        "    [0, 0, 0, -r**2*sp.sin(teta)**2]\n",
        "]\n",
        "# Creamos el objeto MetricTensor\n",
        "g = es.MetricTensor(gmat,(x0, r, teta, phi))\n",
        "\n",
        "# Calculamos el tensor de Riemann\n",
        "R1 = es.RiemannCurvatureTensor.from_metric(g)\n",
        "R1cov = R1.change_config('llll').tensor()\n",
        "\n",
        "print(\"Componentes del tensor de Riemann covariante:\")\n",
        "# Iterate through all components and print non-zero ones\n",
        "for i in range(4):\n",
        "    for j in range(4):\n",
        "        for k in range(4):\n",
        "            for l in range(4):\n",
        "                component = sp.simplify(R1cov[i, j, k, l])\n",
        "                if component != 0:\n",
        "                    display(f\"R^({i},{j})_{{{k},{l}}} =\", component)\n"
      ],
      "metadata": {
        "colab": {
          "base_uri": "https://localhost:8080/"
        },
        "id": "0zppF6yOfSog",
        "outputId": "a9242a47-b0ed-4375-db18-707dfb0bffe4"
      },
      "execution_count": null,
      "outputs": [
        {
          "output_type": "stream",
          "name": "stdout",
          "text": [
            "1. Métrica de Minkowski\n",
            "==================================================\n",
            "Componentes del tensor de Riemann covariante:\n"
          ]
        }
      ]
    },
    {
      "cell_type": "markdown",
      "source": [
        "# Metrica de la superficie de una esfera"
      ],
      "metadata": {
        "id": "u8Rt4lPkQ7Wq"
      }
    },
    {
      "cell_type": "code",
      "source": [
        "print(\"2. Métrica de la superficie de una esfera\")\n",
        "print(\"=\" * 50)\n",
        "theta, phi, R = sp.symbols(\"\\theta \\phi R\")\n",
        "# Definimos la métrica\n",
        "gmat=[\n",
        "     [R**2, 0],\n",
        "    [0, R**2*sp.sin(teta)**2]\n",
        "]\n",
        "\n",
        "# Creamos el objeto MetricTensor\n",
        "g = es.MetricTensor(gmat, (teta, phi))\n",
        "\n",
        "R2 = es.RiemannCurvatureTensor.from_metric(g)\n",
        "R2cov = R2.change_config('llll').tensor()\n",
        "\n",
        "print(\"Componentes del tensor de Riemann covariante:\")\n",
        "for i in range(2):\n",
        "    for j in range(2):\n",
        "        for k in range(2):\n",
        "            for l in range(2):\n",
        "                component = sp.simplify(R2cov[i, j, k, l])\n",
        "                if component != 0:\n",
        "                     display(Math(f\"R_{{{i}{j}{k}{l}}} =\" + f\"{sp.latex(component)}\"))"
      ],
      "metadata": {
        "colab": {
          "base_uri": "https://localhost:8080/",
          "height": 159
        },
        "id": "vQGSA9QXgYtn",
        "outputId": "af5e688e-3775-4986-8c0e-d574da068f56"
      },
      "execution_count": null,
      "outputs": [
        {
          "output_type": "stream",
          "name": "stdout",
          "text": [
            "2. Métrica de la superficie de una esfera\n",
            "==================================================\n",
            "Componentes del tensor de Riemann covariante:\n"
          ]
        },
        {
          "output_type": "display_data",
          "data": {
            "text/plain": [
              "<IPython.core.display.Math object>"
            ],
            "text/latex": "$\\displaystyle R_{0101} =R^{2} \\sin^{2}{\\left(\\theta \\right)}$"
          },
          "metadata": {}
        },
        {
          "output_type": "display_data",
          "data": {
            "text/plain": [
              "<IPython.core.display.Math object>"
            ],
            "text/latex": "$\\displaystyle R_{0110} =- R^{2} \\sin^{2}{\\left(\\theta \\right)}$"
          },
          "metadata": {}
        },
        {
          "output_type": "display_data",
          "data": {
            "text/plain": [
              "<IPython.core.display.Math object>"
            ],
            "text/latex": "$\\displaystyle R_{1001} =- R^{2} \\sin^{2}{\\left(\\theta \\right)}$"
          },
          "metadata": {}
        },
        {
          "output_type": "display_data",
          "data": {
            "text/plain": [
              "<IPython.core.display.Math object>"
            ],
            "text/latex": "$\\displaystyle R_{1010} =R^{2} \\sin^{2}{\\left(\\theta \\right)}$"
          },
          "metadata": {}
        }
      ]
    },
    {
      "cell_type": "markdown",
      "source": [
        "# Métrica de Newton en esféricas"
      ],
      "metadata": {
        "id": "j8LulbsDY9mb"
      }
    },
    {
      "cell_type": "code",
      "source": [
        "print(\"3. Métrica de Newton\")\n",
        "print(\"=\" * 50)\n",
        "x0, r, teta, phi, s = sp.symbols(r\"x^0 r \\theta \\phi s\")\n",
        "gmat = [\n",
        "    [(1-s/r), 0, 0, 0],\n",
        "    [0, -1, 0, 0],\n",
        "    [0, 0, -r**2, 0],\n",
        "    [0, 0, 0, -r**2*sp.sin(teta)**2]\n",
        "]\n",
        "\n",
        "g = es.MetricTensor(gmat,(x0, r, teta, phi))\n",
        "R3 = es.RiemannCurvatureTensor.from_metric(g)\n",
        "R3cov = R3.change_config('llll').tensor()\n",
        "\n",
        "print(\"Componentes del tensor de Riemann covariante:\")\n",
        "for i in range(4):\n",
        "    for j in range(4):\n",
        "        for k in range(4):\n",
        "            for l in range(4):\n",
        "                component = sp.simplify(R3cov[i, j, k, l])\n",
        "                if component != 0:\n",
        "                     display(Math(f\"R_{{{i}{j}{k}{l}}} =\" + f\"{sp.latex(component)}\"))"
      ],
      "metadata": {
        "colab": {
          "base_uri": "https://localhost:8080/",
          "height": 504
        },
        "id": "_TMLX5CziOMK",
        "outputId": "a1a6a255-9a81-48f0-f0a2-cdd487c6e2cc"
      },
      "execution_count": null,
      "outputs": [
        {
          "output_type": "stream",
          "name": "stdout",
          "text": [
            "3. Métrica de Newton\n",
            "==================================================\n",
            "Componentes del tensor de Riemann covariante:\n"
          ]
        },
        {
          "output_type": "display_data",
          "data": {
            "text/plain": [
              "<IPython.core.display.Math object>"
            ],
            "text/latex": "$\\displaystyle R_{0101} =\\frac{s \\left(4 r - 3 s\\right)}{4 r^{3} \\left(r - s\\right)}$"
          },
          "metadata": {}
        },
        {
          "output_type": "display_data",
          "data": {
            "text/plain": [
              "<IPython.core.display.Math object>"
            ],
            "text/latex": "$\\displaystyle R_{0110} =\\frac{s \\left(- 4 r + 3 s\\right)}{4 r^{3} \\left(r - s\\right)}$"
          },
          "metadata": {}
        },
        {
          "output_type": "display_data",
          "data": {
            "text/plain": [
              "<IPython.core.display.Math object>"
            ],
            "text/latex": "$\\displaystyle R_{0202} =- \\frac{s}{2 r}$"
          },
          "metadata": {}
        },
        {
          "output_type": "display_data",
          "data": {
            "text/plain": [
              "<IPython.core.display.Math object>"
            ],
            "text/latex": "$\\displaystyle R_{0220} =\\frac{s}{2 r}$"
          },
          "metadata": {}
        },
        {
          "output_type": "display_data",
          "data": {
            "text/plain": [
              "<IPython.core.display.Math object>"
            ],
            "text/latex": "$\\displaystyle R_{0303} =- \\frac{s \\sin^{2}{\\left(\\theta \\right)}}{2 r}$"
          },
          "metadata": {}
        },
        {
          "output_type": "display_data",
          "data": {
            "text/plain": [
              "<IPython.core.display.Math object>"
            ],
            "text/latex": "$\\displaystyle R_{0330} =\\frac{s \\sin^{2}{\\left(\\theta \\right)}}{2 r}$"
          },
          "metadata": {}
        },
        {
          "output_type": "display_data",
          "data": {
            "text/plain": [
              "<IPython.core.display.Math object>"
            ],
            "text/latex": "$\\displaystyle R_{1001} =\\frac{s \\left(- 4 r + 3 s\\right)}{4 r^{3} \\left(r - s\\right)}$"
          },
          "metadata": {}
        },
        {
          "output_type": "display_data",
          "data": {
            "text/plain": [
              "<IPython.core.display.Math object>"
            ],
            "text/latex": "$\\displaystyle R_{1010} =\\frac{s \\left(4 r - 3 s\\right)}{4 r^{3} \\left(r - s\\right)}$"
          },
          "metadata": {}
        },
        {
          "output_type": "display_data",
          "data": {
            "text/plain": [
              "<IPython.core.display.Math object>"
            ],
            "text/latex": "$\\displaystyle R_{2002} =\\frac{s}{2 r}$"
          },
          "metadata": {}
        },
        {
          "output_type": "display_data",
          "data": {
            "text/plain": [
              "<IPython.core.display.Math object>"
            ],
            "text/latex": "$\\displaystyle R_{2020} =- \\frac{s}{2 r}$"
          },
          "metadata": {}
        },
        {
          "output_type": "display_data",
          "data": {
            "text/plain": [
              "<IPython.core.display.Math object>"
            ],
            "text/latex": "$\\displaystyle R_{3003} =\\frac{s \\sin^{2}{\\left(\\theta \\right)}}{2 r}$"
          },
          "metadata": {}
        },
        {
          "output_type": "display_data",
          "data": {
            "text/plain": [
              "<IPython.core.display.Math object>"
            ],
            "text/latex": "$\\displaystyle R_{3030} =- \\frac{s \\sin^{2}{\\left(\\theta \\right)}}{2 r}$"
          },
          "metadata": {}
        }
      ]
    },
    {
      "cell_type": "markdown",
      "source": [
        "# Métrica de Schwartzschild"
      ],
      "metadata": {
        "id": "l4tqTPZQZC7W"
      }
    },
    {
      "cell_type": "code",
      "source": [
        "print(\"4. Métrica de Schwartzschild\")\n",
        "print(\"=\" * 50)\n",
        "x0, r, teta, phi, s = sp.symbols(r\"x^0 r \\theta \\phi s\")\n",
        "gmat = [\n",
        "    [(1-s/r), 0, 0, 0],\n",
        "    [0, -(1-(s/r))**(-1), 0, 0],\n",
        "    [0, 0, -r**2, 0],\n",
        "    [0, 0, 0, -r**2*sp.sin(teta)**2]\n",
        "]\n",
        "\n",
        "g = es.MetricTensor(gmat,(x0, r, teta, phi))\n",
        "\n",
        "R4 = es.RiemannCurvatureTensor.from_metric(g)\n",
        "R4cov = R4.change_config('llll').tensor()\n",
        "\n",
        "print(\"Componentes del tensor de Riemann covariante:\")\n",
        "for i in range(4):\n",
        "    for j in range(4):\n",
        "        for k in range(4):\n",
        "            for l in range(4):\n",
        "                component = sp.simplify(R4cov[i, j, k, l])\n",
        "                if component != 0:\n",
        "                     display(Math(f\"R_{{{i}{j}{k}{l}}} =\" + f\"{sp.latex(component)}\"))"
      ],
      "metadata": {
        "colab": {
          "base_uri": "https://localhost:8080/",
          "height": 871
        },
        "id": "S04lD29RjpMZ",
        "outputId": "a8dbdb31-9a97-49ea-89da-b660ba1bdac0"
      },
      "execution_count": null,
      "outputs": [
        {
          "output_type": "stream",
          "name": "stdout",
          "text": [
            "4. Métrica de Schwartzschild\n",
            "==================================================\n",
            "Componentes del tensor de Riemann covariante:\n"
          ]
        },
        {
          "output_type": "display_data",
          "data": {
            "text/plain": [
              "<IPython.core.display.Math object>"
            ],
            "text/latex": "$\\displaystyle R_{0101} =\\frac{s}{r^{3}}$"
          },
          "metadata": {}
        },
        {
          "output_type": "display_data",
          "data": {
            "text/plain": [
              "<IPython.core.display.Math object>"
            ],
            "text/latex": "$\\displaystyle R_{0110} =- \\frac{s}{r^{3}}$"
          },
          "metadata": {}
        },
        {
          "output_type": "display_data",
          "data": {
            "text/plain": [
              "<IPython.core.display.Math object>"
            ],
            "text/latex": "$\\displaystyle R_{0202} =\\frac{s \\left(- r + s\\right)}{2 r^{2}}$"
          },
          "metadata": {}
        },
        {
          "output_type": "display_data",
          "data": {
            "text/plain": [
              "<IPython.core.display.Math object>"
            ],
            "text/latex": "$\\displaystyle R_{0220} =\\frac{s \\left(r - s\\right)}{2 r^{2}}$"
          },
          "metadata": {}
        },
        {
          "output_type": "display_data",
          "data": {
            "text/plain": [
              "<IPython.core.display.Math object>"
            ],
            "text/latex": "$\\displaystyle R_{0303} =\\frac{s \\left(- r + s\\right) \\sin^{2}{\\left(\\theta \\right)}}{2 r^{2}}$"
          },
          "metadata": {}
        },
        {
          "output_type": "display_data",
          "data": {
            "text/plain": [
              "<IPython.core.display.Math object>"
            ],
            "text/latex": "$\\displaystyle R_{0330} =\\frac{s \\left(r - s\\right) \\sin^{2}{\\left(\\theta \\right)}}{2 r^{2}}$"
          },
          "metadata": {}
        },
        {
          "output_type": "display_data",
          "data": {
            "text/plain": [
              "<IPython.core.display.Math object>"
            ],
            "text/latex": "$\\displaystyle R_{1001} =- \\frac{s}{r^{3}}$"
          },
          "metadata": {}
        },
        {
          "output_type": "display_data",
          "data": {
            "text/plain": [
              "<IPython.core.display.Math object>"
            ],
            "text/latex": "$\\displaystyle R_{1010} =\\frac{s}{r^{3}}$"
          },
          "metadata": {}
        },
        {
          "output_type": "display_data",
          "data": {
            "text/plain": [
              "<IPython.core.display.Math object>"
            ],
            "text/latex": "$\\displaystyle R_{1212} =\\frac{s}{2 \\left(r - s\\right)}$"
          },
          "metadata": {}
        },
        {
          "output_type": "display_data",
          "data": {
            "text/plain": [
              "<IPython.core.display.Math object>"
            ],
            "text/latex": "$\\displaystyle R_{1221} =- \\frac{s}{2 r - 2 s}$"
          },
          "metadata": {}
        },
        {
          "output_type": "display_data",
          "data": {
            "text/plain": [
              "<IPython.core.display.Math object>"
            ],
            "text/latex": "$\\displaystyle R_{1313} =\\frac{s \\sin^{2}{\\left(\\theta \\right)}}{2 \\left(r - s\\right)}$"
          },
          "metadata": {}
        },
        {
          "output_type": "display_data",
          "data": {
            "text/plain": [
              "<IPython.core.display.Math object>"
            ],
            "text/latex": "$\\displaystyle R_{1331} =- \\frac{s \\sin^{2}{\\left(\\theta \\right)}}{2 r - 2 s}$"
          },
          "metadata": {}
        },
        {
          "output_type": "display_data",
          "data": {
            "text/plain": [
              "<IPython.core.display.Math object>"
            ],
            "text/latex": "$\\displaystyle R_{2002} =\\frac{s \\left(r - s\\right)}{2 r^{2}}$"
          },
          "metadata": {}
        },
        {
          "output_type": "display_data",
          "data": {
            "text/plain": [
              "<IPython.core.display.Math object>"
            ],
            "text/latex": "$\\displaystyle R_{2020} =\\frac{s \\left(- r + s\\right)}{2 r^{2}}$"
          },
          "metadata": {}
        },
        {
          "output_type": "display_data",
          "data": {
            "text/plain": [
              "<IPython.core.display.Math object>"
            ],
            "text/latex": "$\\displaystyle R_{2112} =- \\frac{s}{2 r - 2 s}$"
          },
          "metadata": {}
        },
        {
          "output_type": "display_data",
          "data": {
            "text/plain": [
              "<IPython.core.display.Math object>"
            ],
            "text/latex": "$\\displaystyle R_{2121} =\\frac{s}{2 \\left(r - s\\right)}$"
          },
          "metadata": {}
        },
        {
          "output_type": "display_data",
          "data": {
            "text/plain": [
              "<IPython.core.display.Math object>"
            ],
            "text/latex": "$\\displaystyle R_{2323} =- r s \\sin^{2}{\\left(\\theta \\right)}$"
          },
          "metadata": {}
        },
        {
          "output_type": "display_data",
          "data": {
            "text/plain": [
              "<IPython.core.display.Math object>"
            ],
            "text/latex": "$\\displaystyle R_{2332} =r s \\sin^{2}{\\left(\\theta \\right)}$"
          },
          "metadata": {}
        },
        {
          "output_type": "display_data",
          "data": {
            "text/plain": [
              "<IPython.core.display.Math object>"
            ],
            "text/latex": "$\\displaystyle R_{3003} =\\frac{s \\left(r - s\\right) \\sin^{2}{\\left(\\theta \\right)}}{2 r^{2}}$"
          },
          "metadata": {}
        },
        {
          "output_type": "display_data",
          "data": {
            "text/plain": [
              "<IPython.core.display.Math object>"
            ],
            "text/latex": "$\\displaystyle R_{3030} =\\frac{s \\left(- r + s\\right) \\sin^{2}{\\left(\\theta \\right)}}{2 r^{2}}$"
          },
          "metadata": {}
        },
        {
          "output_type": "display_data",
          "data": {
            "text/plain": [
              "<IPython.core.display.Math object>"
            ],
            "text/latex": "$\\displaystyle R_{3113} =- \\frac{s \\sin^{2}{\\left(\\theta \\right)}}{2 r - 2 s}$"
          },
          "metadata": {}
        },
        {
          "output_type": "display_data",
          "data": {
            "text/plain": [
              "<IPython.core.display.Math object>"
            ],
            "text/latex": "$\\displaystyle R_{3131} =\\frac{s \\sin^{2}{\\left(\\theta \\right)}}{2 \\left(r - s\\right)}$"
          },
          "metadata": {}
        },
        {
          "output_type": "display_data",
          "data": {
            "text/plain": [
              "<IPython.core.display.Math object>"
            ],
            "text/latex": "$\\displaystyle R_{3223} =r s \\sin^{2}{\\left(\\theta \\right)}$"
          },
          "metadata": {}
        },
        {
          "output_type": "display_data",
          "data": {
            "text/plain": [
              "<IPython.core.display.Math object>"
            ],
            "text/latex": "$\\displaystyle R_{3232} =- r s \\sin^{2}{\\left(\\theta \\right)}$"
          },
          "metadata": {}
        }
      ]
    },
    {
      "cell_type": "markdown",
      "source": [
        "# Métrica de Friedmann-Robertson-Walker"
      ],
      "metadata": {
        "id": "dNhhDW28ZHrT"
      }
    },
    {
      "cell_type": "code",
      "source": [
        "print(\"5. Métrica de Friedmann-Robertson-Walker\")\n",
        "print(\"=\" * 50)\n",
        "x0, r, teta, phi, k = sp.symbols(r\"x^0 r \\theta \\phi k\")\n",
        "a = sp.Function('a')(x0)\n",
        "gmat = [\n",
        "    [1, 0, 0, 0],\n",
        "    [0, -(a**2)/(1-k*r**2), 0, 0],\n",
        "    [0, 0, -r**2, 0],\n",
        "    [0, 0, 0, -r**2*sp.sin(teta)**2]\n",
        "]\n",
        "\n",
        "g = es.MetricTensor(gmat,(x0, r, teta, phi))\n",
        "R5 = es.RiemannCurvatureTensor.from_metric(g)\n",
        "R5cov = R5.change_config('llll').tensor()\n",
        "\n",
        "print(\"Componentes del tensor de Riemann covariante:\")\n",
        "for i in range(4):\n",
        "    for j in range(4):\n",
        "        for k in range(4):\n",
        "            for l in range(4):\n",
        "                component = sp.simplify(R5cov[i, j, k, l])\n",
        "                if component != 0:\n",
        "                    simp = sp.simplify(component).subs([\n",
        "                        (sp.diff(a, x0, x0), sp.Symbol('\\ddot{a}')),\n",
        "                        (sp.diff(a, x0), sp.Symbol('\\dot{a}'))\n",
        "                    ])\n",
        "                    display(Math(f\"R_{{{i}{j}{k}{l}}} =\" + f\"{sp.latex(simp)}\"))"
      ],
      "metadata": {
        "colab": {
          "base_uri": "https://localhost:8080/",
          "height": 1000
        },
        "id": "XZKclMPFdwsc",
        "outputId": "529fa89e-b093-4938-b360-37ac5b3a50a9"
      },
      "execution_count": null,
      "outputs": [
        {
          "output_type": "stream",
          "name": "stdout",
          "text": [
            "5. Métrica de Friedmann-Robertson-Walker\n",
            "==================================================\n",
            "Componentes del tensor de Riemann covariante:\n"
          ]
        },
        {
          "output_type": "display_data",
          "data": {
            "text/plain": [
              "<IPython.core.display.Math object>"
            ],
            "text/latex": "$\\displaystyle R_{0101} =- \\frac{\\ddot{a} a{\\left(x^{0} \\right)}}{k r^{2} - 1}$"
          },
          "metadata": {}
        },
        {
          "output_type": "display_data",
          "data": {
            "text/plain": [
              "<IPython.core.display.Math object>"
            ],
            "text/latex": "$\\displaystyle R_{0110} =\\frac{\\ddot{a} a{\\left(x^{0} \\right)}}{k r^{2} - 1}$"
          },
          "metadata": {}
        },
        {
          "output_type": "display_data",
          "data": {
            "text/plain": [
              "<IPython.core.display.Math object>"
            ],
            "text/latex": "$\\displaystyle R_{0212} =- \\frac{\\dot{a} r}{a{\\left(x^{0} \\right)}}$"
          },
          "metadata": {}
        },
        {
          "output_type": "display_data",
          "data": {
            "text/plain": [
              "<IPython.core.display.Math object>"
            ],
            "text/latex": "$\\displaystyle R_{0221} =\\frac{\\dot{a} r}{a{\\left(x^{0} \\right)}}$"
          },
          "metadata": {}
        },
        {
          "output_type": "display_data",
          "data": {
            "text/plain": [
              "<IPython.core.display.Math object>"
            ],
            "text/latex": "$\\displaystyle R_{0313} =- \\frac{\\dot{a} r \\sin^{2}{\\left(\\theta \\right)}}{a{\\left(x^{0} \\right)}}$"
          },
          "metadata": {}
        },
        {
          "output_type": "display_data",
          "data": {
            "text/plain": [
              "<IPython.core.display.Math object>"
            ],
            "text/latex": "$\\displaystyle R_{0331} =\\frac{\\dot{a} r \\sin^{2}{\\left(\\theta \\right)}}{a{\\left(x^{0} \\right)}}$"
          },
          "metadata": {}
        },
        {
          "output_type": "display_data",
          "data": {
            "text/plain": [
              "<IPython.core.display.Math object>"
            ],
            "text/latex": "$\\displaystyle R_{1001} =\\frac{\\ddot{a} a{\\left(x^{0} \\right)}}{k r^{2} - 1}$"
          },
          "metadata": {}
        },
        {
          "output_type": "display_data",
          "data": {
            "text/plain": [
              "<IPython.core.display.Math object>"
            ],
            "text/latex": "$\\displaystyle R_{1010} =- \\frac{\\ddot{a} a{\\left(x^{0} \\right)}}{k r^{2} - 1}$"
          },
          "metadata": {}
        },
        {
          "output_type": "display_data",
          "data": {
            "text/plain": [
              "<IPython.core.display.Math object>"
            ],
            "text/latex": "$\\displaystyle R_{1202} =- \\frac{\\dot{a} r}{a{\\left(x^{0} \\right)}}$"
          },
          "metadata": {}
        },
        {
          "output_type": "display_data",
          "data": {
            "text/plain": [
              "<IPython.core.display.Math object>"
            ],
            "text/latex": "$\\displaystyle R_{1212} =\\frac{k r^{2}}{k r^{2} - 1}$"
          },
          "metadata": {}
        },
        {
          "output_type": "display_data",
          "data": {
            "text/plain": [
              "<IPython.core.display.Math object>"
            ],
            "text/latex": "$\\displaystyle R_{1220} =\\frac{\\dot{a} r}{a{\\left(x^{0} \\right)}}$"
          },
          "metadata": {}
        },
        {
          "output_type": "display_data",
          "data": {
            "text/plain": [
              "<IPython.core.display.Math object>"
            ],
            "text/latex": "$\\displaystyle R_{1221} =- \\frac{k r^{2}}{k r^{2} - 1}$"
          },
          "metadata": {}
        },
        {
          "output_type": "display_data",
          "data": {
            "text/plain": [
              "<IPython.core.display.Math object>"
            ],
            "text/latex": "$\\displaystyle R_{1303} =- \\frac{\\dot{a} r \\sin^{2}{\\left(\\theta \\right)}}{a{\\left(x^{0} \\right)}}$"
          },
          "metadata": {}
        },
        {
          "output_type": "display_data",
          "data": {
            "text/plain": [
              "<IPython.core.display.Math object>"
            ],
            "text/latex": "$\\displaystyle R_{1313} =\\frac{k r^{2} \\sin^{2}{\\left(\\theta \\right)}}{k r^{2} - 1}$"
          },
          "metadata": {}
        },
        {
          "output_type": "display_data",
          "data": {
            "text/plain": [
              "<IPython.core.display.Math object>"
            ],
            "text/latex": "$\\displaystyle R_{1330} =\\frac{\\dot{a} r \\sin^{2}{\\left(\\theta \\right)}}{a{\\left(x^{0} \\right)}}$"
          },
          "metadata": {}
        },
        {
          "output_type": "display_data",
          "data": {
            "text/plain": [
              "<IPython.core.display.Math object>"
            ],
            "text/latex": "$\\displaystyle R_{1331} =- \\frac{k r^{2} \\sin^{2}{\\left(\\theta \\right)}}{k r^{2} - 1}$"
          },
          "metadata": {}
        },
        {
          "output_type": "display_data",
          "data": {
            "text/plain": [
              "<IPython.core.display.Math object>"
            ],
            "text/latex": "$\\displaystyle R_{2012} =\\frac{\\dot{a} r}{a{\\left(x^{0} \\right)}}$"
          },
          "metadata": {}
        },
        {
          "output_type": "display_data",
          "data": {
            "text/plain": [
              "<IPython.core.display.Math object>"
            ],
            "text/latex": "$\\displaystyle R_{2021} =- \\frac{\\dot{a} r}{a{\\left(x^{0} \\right)}}$"
          },
          "metadata": {}
        },
        {
          "output_type": "display_data",
          "data": {
            "text/plain": [
              "<IPython.core.display.Math object>"
            ],
            "text/latex": "$\\displaystyle R_{2102} =\\frac{\\dot{a} r}{a{\\left(x^{0} \\right)}}$"
          },
          "metadata": {}
        },
        {
          "output_type": "display_data",
          "data": {
            "text/plain": [
              "<IPython.core.display.Math object>"
            ],
            "text/latex": "$\\displaystyle R_{2112} =- \\frac{k r^{2}}{k r^{2} - 1}$"
          },
          "metadata": {}
        },
        {
          "output_type": "display_data",
          "data": {
            "text/plain": [
              "<IPython.core.display.Math object>"
            ],
            "text/latex": "$\\displaystyle R_{2120} =- \\frac{\\dot{a} r}{a{\\left(x^{0} \\right)}}$"
          },
          "metadata": {}
        },
        {
          "output_type": "display_data",
          "data": {
            "text/plain": [
              "<IPython.core.display.Math object>"
            ],
            "text/latex": "$\\displaystyle R_{2121} =\\frac{k r^{2}}{k r^{2} - 1}$"
          },
          "metadata": {}
        },
        {
          "output_type": "display_data",
          "data": {
            "text/plain": [
              "<IPython.core.display.Math object>"
            ],
            "text/latex": "$\\displaystyle R_{2323} =\\frac{r^{2} \\left(- k r^{2} - a^{2}{\\left(x^{0} \\right)} + 1\\right) \\sin^{2}{\\left(\\theta \\right)}}{a^{2}{\\left(x^{0} \\right)}}$"
          },
          "metadata": {}
        },
        {
          "output_type": "display_data",
          "data": {
            "text/plain": [
              "<IPython.core.display.Math object>"
            ],
            "text/latex": "$\\displaystyle R_{2332} =\\frac{r^{2} \\left(k r^{2} + a^{2}{\\left(x^{0} \\right)} - 1\\right) \\sin^{2}{\\left(\\theta \\right)}}{a^{2}{\\left(x^{0} \\right)}}$"
          },
          "metadata": {}
        },
        {
          "output_type": "display_data",
          "data": {
            "text/plain": [
              "<IPython.core.display.Math object>"
            ],
            "text/latex": "$\\displaystyle R_{3013} =\\frac{\\dot{a} r \\sin^{2}{\\left(\\theta \\right)}}{a{\\left(x^{0} \\right)}}$"
          },
          "metadata": {}
        },
        {
          "output_type": "display_data",
          "data": {
            "text/plain": [
              "<IPython.core.display.Math object>"
            ],
            "text/latex": "$\\displaystyle R_{3031} =- \\frac{\\dot{a} r \\sin^{2}{\\left(\\theta \\right)}}{a{\\left(x^{0} \\right)}}$"
          },
          "metadata": {}
        },
        {
          "output_type": "display_data",
          "data": {
            "text/plain": [
              "<IPython.core.display.Math object>"
            ],
            "text/latex": "$\\displaystyle R_{3103} =\\frac{\\dot{a} r \\sin^{2}{\\left(\\theta \\right)}}{a{\\left(x^{0} \\right)}}$"
          },
          "metadata": {}
        },
        {
          "output_type": "display_data",
          "data": {
            "text/plain": [
              "<IPython.core.display.Math object>"
            ],
            "text/latex": "$\\displaystyle R_{3113} =- \\frac{k r^{2} \\sin^{2}{\\left(\\theta \\right)}}{k r^{2} - 1}$"
          },
          "metadata": {}
        },
        {
          "output_type": "display_data",
          "data": {
            "text/plain": [
              "<IPython.core.display.Math object>"
            ],
            "text/latex": "$\\displaystyle R_{3130} =- \\frac{\\dot{a} r \\sin^{2}{\\left(\\theta \\right)}}{a{\\left(x^{0} \\right)}}$"
          },
          "metadata": {}
        },
        {
          "output_type": "display_data",
          "data": {
            "text/plain": [
              "<IPython.core.display.Math object>"
            ],
            "text/latex": "$\\displaystyle R_{3131} =\\frac{k r^{2} \\sin^{2}{\\left(\\theta \\right)}}{k r^{2} - 1}$"
          },
          "metadata": {}
        },
        {
          "output_type": "display_data",
          "data": {
            "text/plain": [
              "<IPython.core.display.Math object>"
            ],
            "text/latex": "$\\displaystyle R_{3223} =\\frac{r^{2} \\left(k r^{2} + a^{2}{\\left(x^{0} \\right)} - 1\\right) \\sin^{2}{\\left(\\theta \\right)}}{a^{2}{\\left(x^{0} \\right)}}$"
          },
          "metadata": {}
        },
        {
          "output_type": "display_data",
          "data": {
            "text/plain": [
              "<IPython.core.display.Math object>"
            ],
            "text/latex": "$\\displaystyle R_{3232} =\\frac{r^{2} \\left(- k r^{2} - a^{2}{\\left(x^{0} \\right)} + 1\\right) \\sin^{2}{\\left(\\theta \\right)}}{a^{2}{\\left(x^{0} \\right)}}$"
          },
          "metadata": {}
        }
      ]
    },
    {
      "cell_type": "markdown",
      "source": [
        "## CG. **Corrimiento gravitacional en astrofísica**"
      ],
      "metadata": {
        "id": "ALLHbOfpXHEu"
      }
    },
    {
      "cell_type": "markdown",
      "source": [
        "# 2)"
      ],
      "metadata": {
        "id": "bNypAyRirXHE"
      }
    },
    {
      "cell_type": "markdown",
      "source": [
        "A partir del punto anterior (que se encuentra en la parte a mano del proble set), tenemos que el corrimiento espectral se puede expresar como:\n",
        "\n",
        "$$z = \\Gamma(r)-1$$\n",
        "\n",
        "donde $\\Gamma(r) = \\frac{1}{\\sqrt{1-v_e(r)^2/c^2}}$\n",
        "\n",
        "A partir de ello se calculará el corrimiento espectral para una linea de $H_\\alpha$ emitida por una enana blanca utilizando un rango de masas $M$ para las enanas blancas"
      ],
      "metadata": {
        "id": "Q9bWxCkUTMl_"
      }
    },
    {
      "cell_type": "code",
      "source": [
        "import numpy as np\n",
        "G = 6.67430e-11  # m^3 kg^-1 s^-2\n",
        "M_sol = 1.989e30   # kg\n",
        "c = 3e8      # m/s\n",
        "\n",
        "def RadioEnanaBlanca(M):\n",
        "  return 9e6 * (M)**(-1/3)\n",
        "\n",
        "def CorrimientoEspectral(M):\n",
        "\n",
        "  masa = M * M_sol\n",
        "  radio = RadioEnanaBlanca(M)\n",
        "  v_e = (2 * G * masa) / radio\n",
        "\n",
        "  gamma = 1 / np.sqrt(1 - v_e / c**2)\n",
        "\n",
        "  z = gamma - 1\n",
        "  return z\n",
        "\n",
        "Ms = np.linspace(0.5, 1.2, 100)\n",
        "corz = [CorrimientoEspectral(m) for m in Ms]\n",
        "\n",
        "v_eq = [z * c / 1000 for z in corz]\n",
        "\n",
        "print(\"Corrimiento Espectral para Enanas Blancas:\")\n",
        "for i in range(0, len(Ms), 20):\n",
        "  print(f\"Masa: {Ms[i]:.2f} M_sol -> \"\n",
        "        f\"Corrimiento z: {corz[i]:.4e} -> \"\n",
        "        f\"Velocidad Equivalente: {v_eq[i]:.2f} km/s\")\n",
        "\n"
      ],
      "metadata": {
        "colab": {
          "base_uri": "https://localhost:8080/"
        },
        "id": "7CQ05w6thrph",
        "outputId": "2dead84c-b2b9-47eb-a884-e23de23c85e2"
      },
      "execution_count": null,
      "outputs": [
        {
          "output_type": "stream",
          "name": "stdout",
          "text": [
            "Corrimiento Espectral para Enanas Blancas:\n",
            "Masa: 0.50 M_sol -> Corrimiento z: 6.5047e-05 -> Velocidad Equivalente: 19.51 km/s\n",
            "Masa: 0.64 M_sol -> Corrimiento z: 9.0670e-05 -> Velocidad Equivalente: 27.20 km/s\n",
            "Masa: 0.78 M_sol -> Corrimiento z: 1.1826e-04 -> Velocidad Equivalente: 35.48 km/s\n",
            "Masa: 0.92 M_sol -> Corrimiento z: 1.4758e-04 -> Velocidad Equivalente: 44.27 km/s\n",
            "Masa: 1.07 M_sol -> Corrimiento z: 1.7844e-04 -> Velocidad Equivalente: 53.53 km/s\n"
          ]
        }
      ]
    },
    {
      "cell_type": "markdown",
      "source": [
        "Para encontrar la resolución de los corrimientos que calculamos anteriormente, tendremos en cuenta lo siguiente:\n",
        "\n",
        "$$z=\\frac{\\Delta\\lambda}{\\lambda}$$\n",
        "\n",
        "Esta ecuación describe la medida del corrimiento al rojo basada en la longitud de onda. Pero si vemos la expresión para calcular la resolución espectral $R = \\frac{\\lambda}{\\Delta\\lambda}$, entonces tenemos que:\n",
        "\n",
        "$$R = \\frac{1}{z}$$\n"
      ],
      "metadata": {
        "id": "70qkhP2QXGaw"
      }
    },
    {
      "cell_type": "code",
      "source": [
        "R = np.zeros(len(Ms))\n",
        "zs = np.array(corz)\n",
        "R = 1/zs\n",
        "average_resolution = sum(R) / len(R)\n",
        "print(f\"La resolición promedio para detectar este corrimiento es de: {average_resolution:.2f}\")"
      ],
      "metadata": {
        "colab": {
          "base_uri": "https://localhost:8080/"
        },
        "id": "yH2O3YKUWAVo",
        "outputId": "45641c7d-8036-4c19-9116-47f02e030f8b"
      },
      "execution_count": null,
      "outputs": [
        {
          "output_type": "stream",
          "name": "stdout",
          "text": [
            "La resolición promedio para detectar este corrimiento es de: 8354.89\n"
          ]
        }
      ]
    },
    {
      "cell_type": "markdown",
      "source": [
        "Ahora, graficamos el corrimiento esperado con respecto a las masas de las enanas blancas cuya masa se encuentra en un rango de $0.5-1.2 M_\\odot$."
      ],
      "metadata": {
        "id": "WvFQgiLxV_kW"
      }
    },
    {
      "cell_type": "code",
      "source": [
        "import matplotlib.pyplot as plt\n",
        "\n",
        "plt.plot(Ms, v_eq, \"r\")\n",
        "plt.xlabel('Masa Enana Blanca $(M_\\odot)$')\n",
        "plt.ylabel('$V_{eq} (km/s)$')\n",
        "plt.title('Velocidad Equivalente vs. Masa Enana Blanca')\n",
        "plt.grid(True)\n",
        "plt.show()"
      ],
      "metadata": {
        "colab": {
          "base_uri": "https://localhost:8080/",
          "height": 474
        },
        "id": "jA2nRPw5qOp-",
        "outputId": "2c11ee41-3b24-4620-e4ab-e5928c88a268"
      },
      "execution_count": null,
      "outputs": [
        {
          "output_type": "display_data",
          "data": {
            "text/plain": [
              "<Figure size 640x480 with 1 Axes>"
            ],
            "image/png": "[encoded data removed]"
          },
          "metadata": {}
        }
      ]
    },
    {
      "cell_type": "markdown",
      "source": [
        "Ahora bien, se estimará la masa de Sirio B a partir de que su corrimiento espectral es de $80.42 \\pm 4.83 km/h$. Para ello se iterará a partir del rango de masas más bajas hasta obtener la masa que corresponda al valor del corrimiento espectral."
      ],
      "metadata": {
        "id": "TqeBNxrEaCt8"
      }
    },
    {
      "cell_type": "code",
      "source": [
        "def MasaRs(VelocidadObservada):\n",
        "\n",
        "  zobs = VelocidadObservada * 1000 / c\n",
        "  MasaEstimada = 0.5 #Msol\n",
        "  paso = 0.001\n",
        "\n",
        "  while True:\n",
        "    zest = CorrimientoEspectral(MasaEstimada)\n",
        "    if zest >= zobs:\n",
        "      return MasaEstimada\n",
        "    MasaEstimada += paso\n",
        "\n",
        "\n",
        "velocidadSirioB = 80.42  # km/s\n",
        "errorVelocidad = 4.83\n",
        "\n",
        "velocidadMinima = velocidadSirioB - errorVelocidad\n",
        "velocidadMaxima = velocidadSirioB + errorVelocidad\n",
        "\n",
        "masaEstimadaMinima = MasaRs(velocidadMinima)\n",
        "masaEstimadaMaxima = MasaRs(velocidadMaxima)\n",
        "\n",
        "MasaEstimada = (masaEstimadaMinima + masaEstimadaMaxima) / 2\n",
        "error = round(((masaEstimadaMaxima - masaEstimadaMinima) / 2),2)\n",
        "\n",
        "\n",
        "print(\"Estimación de la Masa de Sirio B\")\n",
        "print(f\"Masa Estimada: {MasaEstimada:.2f} +/- {error} M_sol\")"
      ],
      "metadata": {
        "colab": {
          "base_uri": "https://localhost:8080/"
        },
        "id": "2njUX_WIlGb8",
        "outputId": "4d50ce1d-f0c1-4083-d818-671d1e0d29a1"
      },
      "execution_count": null,
      "outputs": [
        {
          "output_type": "stream",
          "name": "stdout",
          "text": [
            "Estimación de la Masa de Sirio B\n",
            "Masa Estimada: 1.45 +/- 0.06 M_sol\n"
          ]
        }
      ]
    },
    {
      "cell_type": "markdown",
      "source": [
        "Obtuvimos una masa estimada para Sirio B de $1.45 \\pm 0.06 M_\\odot$, comparado con la literatura, podemos ver uno de los resultados obtenidos en el 2017 a partir de las observaciones del telescobio Hubble y otras observaciones, obteniendo una masa de $1.018\\pm0.005 M_\\odot$.\n",
        "\n",
        "Podemos ver que el resultado obtenido mediante la estimación, está un poco alejado de la medida basada en observaciones, sin embargo no deja de ser un resultado bastante bueno teniendo en cuenta el método de estimación utilizado para calcular la masa."
      ],
      "metadata": {
        "id": "YTc6I5t4bmGs"
      }
    },
    {
      "cell_type": "markdown",
      "source": [
        "# 3)"
      ],
      "metadata": {
        "id": "K6UmAlKrt7IE"
      }
    },
    {
      "cell_type": "markdown",
      "source": [
        "A partir de los datos que tenemos del agujero negro y la órbita de las estrellas que lo orbitan, podemos obtener las coordenadas a partir de la excentricidad y el semieje de la órbita y calcular la velocidad orbital para así, finalmente obtener el corrimiento."
      ],
      "metadata": {
        "id": "SwehjP19eOHR"
      }
    },
    {
      "cell_type": "code",
      "source": [
        "G = 6.67430e-11\n",
        "c = 3e8\n",
        "MSol = 1.989e30\n",
        "AU = 1.496e11\n",
        "\n",
        "Mbh = 4e6 * MSol\n",
        "e = 0.89\n",
        "a = 10 * AU\n",
        "\n",
        "nu = np.linspace(0, 2 * np.pi, 500)\n",
        "\n",
        "r = a * (1 - e**2) / (1 + e * np.cos(nu))\n",
        "\n",
        "vsq = G * Mbh * ((2 / r) - (1 / a))\n",
        "v = np.sqrt(vsq)\n",
        "\n",
        "vGrav = (G * Mbh) / (r * c)\n",
        "vDoppler = vsq / (2 * c)\n",
        "\n",
        "vGravkms = vGrav / 1000\n",
        "vDopplerkms = vDoppler / 1000\n",
        "\n"
      ],
      "metadata": {
        "id": "w0WcJTkcPW3h"
      },
      "execution_count": null,
      "outputs": []
    },
    {
      "cell_type": "code",
      "source": [
        "plt.style.use('seaborn-v0_8-darkgrid')\n",
        "fig, ax = plt.subplots(figsize=(12, 7))\n",
        "\n",
        "nu_deg = np.rad2deg(nu)\n",
        "\n",
        "ax.plot(nu_deg, vGravkms, label='Corrimiento Gravitacional al Rojo', color='red', linewidth=2.5)\n",
        "ax.plot(nu_deg, vDopplerkms, label='Corrimiento Doppler Transversal', color='blue', linestyle='--', linewidth=2.5)\n",
        "\n",
        "ax.set_title('Corrimientos Espectrales Relativistas en la Órbita de una Estrella\\ncerca de Sagitario A*', fontsize=16)\n",
        "ax.set_xlabel('Anomalía Verdadera (grados)', fontsize=12)\n",
        "ax.set_ylabel('Velocidad Radial Equivalente (km/s)', fontsize=12)\n",
        "\n",
        "ax.axvline(0, color='gray', linestyle=':', lw=1)\n",
        "ax.axvline(180, color='gray', linestyle=':', lw=1)\n",
        "ax.axvline(360, color='gray', linestyle=':', lw=1)\n",
        "ax.text(5, 5, 'Periastro', rotation=90, verticalalignment='bottom')\n",
        "ax.text(185, 5, 'Apoastro', rotation=90, verticalalignment='bottom')\n",
        "\n",
        "\n",
        "ax.legend(fontsize=11)\n",
        "\n",
        "plt.show()"
      ],
      "metadata": {
        "colab": {
          "base_uri": "https://localhost:8080/",
          "height": 687
        },
        "id": "SiPdreNOt_Y0",
        "outputId": "67978227-533c-48e1-a26a-28fb53de909f"
      },
      "execution_count": null,
      "outputs": [
        {
          "output_type": "display_data",
          "data": {
            "text/plain": [
              "<Figure size 1200x700 with 1 Axes>"
            ],
            "image/png": "[encoded data removed]"
          },
          "metadata": {}
        }
      ]
    },
    {
      "cell_type": "markdown",
      "source": [
        "La gráfica obtenida, nos permite ver que los efectos relativistas son más intensos cuando la estrella está más cercana al agujero negro, donde además el corrimiento gravitacional es más fuerte que el corrimiento Doppler transversal."
      ],
      "metadata": {
        "id": "9M3O2DQbwBEF"
      }
    },
    {
      "cell_type": "markdown",
      "source": [
        "## MK. **La métrica de Kerr a bajas rotaciones**"
      ],
      "metadata": {
        "id": "tzl_lfknZkpQ"
      }
    },
    {
      "cell_type": "markdown",
      "source": [
        "Definimos la métrica de Kerr con la aproximación debida a $a/r \\ll 1$ para luego calcular los tensores de Ricci y Einstein."
      ],
      "metadata": {
        "id": "-4MZG1dVvwxo"
      }
    },
    {
      "cell_type": "code",
      "source": [
        "x0, r, teta, phi, s, a = sp.symbols(r\"x^0 r \\theta \\phi s a\")\n",
        "\n",
        "gmat = [\n",
        "    [(1-s/r), 0, 0, ((2*s*a)/r)*sp.sin(teta)**2],\n",
        "    [0, -(1-(s/r))**(-1), 0, 0],\n",
        "    [0, 0, -r**2, 0],\n",
        "    [((2*s*a)/r)*sp.sin(teta)**2, 0, 0, -r**2*sp.sin(teta)**2]\n",
        "]\n",
        "\n",
        "g = es.MetricTensor(gmat,(x0, r, teta, phi))\n",
        "g.tensor()"
      ],
      "metadata": {
        "colab": {
          "base_uri": "https://localhost:8080/",
          "height": 111
        },
        "id": "V7GbgYWvyY1H",
        "outputId": "3806dafc-4622-450e-8c34-2ce9ce956b07"
      },
      "execution_count": null,
      "outputs": [
        {
          "output_type": "execute_result",
          "data": {
            "text/plain": [
              "[[1 - s/r, 0, 0, 2*a*s*sin(\\theta)**2/r], [0, -1/(1 - s/r), 0, 0], [0, 0, -r**2, 0], [2*a*s*sin(\\theta)**2/r, 0, 0, -r**2*sin(\\theta)**2]]"
            ],
            "text/latex": "$\\displaystyle \\left[\\begin{matrix}1 - \\frac{s}{r} & 0 & 0 & \\frac{2 a s \\sin^{2}{\\left(\\theta \\right)}}{r}\\\\0 & - \\frac{1}{1 - \\frac{s}{r}} & 0 & 0\\\\0 & 0 & - r^{2} & 0\\\\\\frac{2 a s \\sin^{2}{\\left(\\theta \\right)}}{r} & 0 & 0 & - r^{2} \\sin^{2}{\\left(\\theta \\right)}\\end{matrix}\\right]$"
          },
          "metadata": {},
          "execution_count": 18
        }
      ]
    },
    {
      "cell_type": "code",
      "source": [
        "Rk = es.RicciTensor.from_metric(g)\n",
        "Rk.tensor()"
      ],
      "metadata": {
        "colab": {
          "base_uri": "https://localhost:8080/",
          "height": 164
        },
        "id": "SrDmlr8avsKy",
        "outputId": "7e7675fc-7750-4969-df80-6f7ca00a272c"
      },
      "execution_count": null,
      "outputs": [
        {
          "output_type": "execute_result",
          "data": {
            "text/plain": [
              "[[a**2*s**2*(-6*r**2*sin(\\theta)**2 + 8*r**2 + 4*r*s*sin(\\theta)**2 - 8*r*s + 3*s**2*sin(\\theta)**2)/(r**4*(4*a**2*s**2*sin(\\theta)**2 + r**4 - r**3*s)), 0, 0, a**3*s**3*(-12*r*sin(\\theta)**2 + 8*r - 6*s*sin(\\theta)**2)*sin(\\theta)**2/(r**4*(4*a**2*s**2*sin(\\theta)**2 + r**4 - r**3*s))], [0, a**2*s**2*(-24*a**2*r*s**2*sin(\\theta)**2 + 24*a**2*s**3*sin(\\theta)**2 - 22*r**5 + 36*r**4*s - 15*r**3*s**2)*sin(\\theta)**2/(r**2*(r - s)*(4*a**2*s**2*sin(\\theta)**2 + r**4 - r**3*s)**2), 2*a**2*s**2*(24*a**2*s**2*sin(\\theta)**2 + 10*r**4 - 9*r**3*s)*sin(\\theta)*cos(\\theta)/(r*(4*a**2*s**2*sin(\\theta)**2 + r**4 - r**3*s)**2), 0], [0, 2*a**2*s**2*(24*a**2*s**2*sin(\\theta)**2 + 10*r**4 - 9*r**3*s)*sin(\\theta)*cos(\\theta)/(r*(4*a**2*s**2*sin(\\theta)**2 + r**4 - r**3*s)**2), a**2*s**2*(48*a**2*r*s**2*sin(\\theta)**4 - 24*a**2*s**3*sin(\\theta)**4 + 16*r**5*sin(\\theta)**2 - 4*r**5 - 22*r**4*s*sin(\\theta)**2 + 4*r**4*s + 6*r**3*s**2*sin(\\theta)**2)/(r*(4*a**2*s**2*sin(\\theta)**2 + r**4 - r**3*s)**2), 0], [a**3*s**3*(-12*r*sin(\\theta)**2 + 8*r - 6*s*sin(\\theta)**2)*sin(\\theta)**2/(r**4*(4*a**2*s**2*sin(\\theta)**2 + r**4 - r**3*s)), 0, 0, a**2*s**2*(-6*r*sin(\\theta)**2 - 4*r + 12*s*sin(\\theta)**2)*sin(\\theta)**2/(r*(4*a**2*s**2*sin(\\theta)**2 + r**4 - r**3*s))]]"
            ],
            "text/latex": "$\\displaystyle \\left[\\begin{matrix}\\frac{a^{2} s^{2} \\left(- 6 r^{2} \\sin^{2}{\\left(\\theta \\right)} + 8 r^{2} + 4 r s \\sin^{2}{\\left(\\theta \\right)} - 8 r s + 3 s^{2} \\sin^{2}{\\left(\\theta \\right)}\\right)}{r^{4} \\left(4 a^{2} s^{2} \\sin^{2}{\\left(\\theta \\right)} + r^{4} - r^{3} s\\right)} & 0 & 0 & \\frac{a^{3} s^{3} \\left(- 12 r \\sin^{2}{\\left(\\theta \\right)} + 8 r - 6 s \\sin^{2}{\\left(\\theta \\right)}\\right) \\sin^{2}{\\left(\\theta \\right)}}{r^{4} \\left(4 a^{2} s^{2} \\sin^{2}{\\left(\\theta \\right)} + r^{4} - r^{3} s\\right)}\\\\0 & \\frac{a^{2} s^{2} \\left(- 24 a^{2} r s^{2} \\sin^{2}{\\left(\\theta \\right)} + 24 a^{2} s^{3} \\sin^{2}{\\left(\\theta \\right)} - 22 r^{5} + 36 r^{4} s - 15 r^{3} s^{2}\\right) \\sin^{2}{\\left(\\theta \\right)}}{r^{2} \\left(r - s\\right) \\left(4 a^{2} s^{2} \\sin^{2}{\\left(\\theta \\right)} + r^{4} - r^{3} s\\right)^{2}} & \\frac{2 a^{2} s^{2} \\left(24 a^{2} s^{2} \\sin^{2}{\\left(\\theta \\right)} + 10 r^{4} - 9 r^{3} s\\right) \\sin{\\left(\\theta \\right)} \\cos{\\left(\\theta \\right)}}{r \\left(4 a^{2} s^{2} \\sin^{2}{\\left(\\theta \\right)} + r^{4} - r^{3} s\\right)^{2}} & 0\\\\0 & \\frac{2 a^{2} s^{2} \\left(24 a^{2} s^{2} \\sin^{2}{\\left(\\theta \\right)} + 10 r^{4} - 9 r^{3} s\\right) \\sin{\\left(\\theta \\right)} \\cos{\\left(\\theta \\right)}}{r \\left(4 a^{2} s^{2} \\sin^{2}{\\left(\\theta \\right)} + r^{4} - r^{3} s\\right)^{2}} & \\frac{a^{2} s^{2} \\left(48 a^{2} r s^{2} \\sin^{4}{\\left(\\theta \\right)} - 24 a^{2} s^{3} \\sin^{4}{\\left(\\theta \\right)} + 16 r^{5} \\sin^{2}{\\left(\\theta \\right)} - 4 r^{5} - 22 r^{4} s \\sin^{2}{\\left(\\theta \\right)} + 4 r^{4} s + 6 r^{3} s^{2} \\sin^{2}{\\left(\\theta \\right)}\\right)}{r \\left(4 a^{2} s^{2} \\sin^{2}{\\left(\\theta \\right)} + r^{4} - r^{3} s\\right)^{2}} & 0\\\\\\frac{a^{3} s^{3} \\left(- 12 r \\sin^{2}{\\left(\\theta \\right)} + 8 r - 6 s \\sin^{2}{\\left(\\theta \\right)}\\right) \\sin^{2}{\\left(\\theta \\right)}}{r^{4} \\left(4 a^{2} s^{2} \\sin^{2}{\\left(\\theta \\right)} + r^{4} - r^{3} s\\right)} & 0 & 0 & \\frac{a^{2} s^{2} \\left(- 6 r \\sin^{2}{\\left(\\theta \\right)} - 4 r + 12 s \\sin^{2}{\\left(\\theta \\right)}\\right) \\sin^{2}{\\left(\\theta \\right)}}{r \\left(4 a^{2} s^{2} \\sin^{2}{\\left(\\theta \\right)} + r^{4} - r^{3} s\\right)}\\end{matrix}\\right]$"
          },
          "metadata": {},
          "execution_count": 19
        }
      ]
    },
    {
      "cell_type": "code",
      "source": [
        "Gk = es.EinsteinTensor.from_metric(g)\n",
        "Gk.tensor()"
      ],
      "metadata": {
        "colab": {
          "base_uri": "https://localhost:8080/",
          "height": 170
        },
        "id": "bmTwPrYjC-5n",
        "outputId": "07daecde-7870-4913-92ff-ac4fba6dafe1"
      },
      "execution_count": null,
      "outputs": [
        {
          "output_type": "execute_result",
          "data": {
            "text/plain": [
              "[[-a**2*s**2*(0.5 - 0.5*s/r)*(-72*a**2*r*s**2*sin(\\theta)**4 + 32*a**2*r*s**2*sin(\\theta)**2 - 24*a**2*s**3*sin(\\theta)**4 + 6*r**5*sin(\\theta)**2 + 16*r**5 - 28*r**4*s*sin(\\theta)**2 - 16*r**4*s + 24*r**3*s**2*sin(\\theta)**2)/(r**3*(4*a**2*s**2*sin(\\theta)**2 + r**4 - r**3*s)**2) + a**2*s**2*(-6*r**2*sin(\\theta)**2 + 8*r**2 + 4*r*s*sin(\\theta)**2 - 8*r*s + 3*s**2*sin(\\theta)**2)/(r**4*(4*a**2*s**2*sin(\\theta)**2 + r**4 - r**3*s)), 0, 0, a**3*s**3*(-12*r*sin(\\theta)**2 + 8*r - 6*s*sin(\\theta)**2)*sin(\\theta)**2/(r**4*(4*a**2*s**2*sin(\\theta)**2 + r**4 - r**3*s)) - 1.0*a**3*s**3*(-72*a**2*r*s**2*sin(\\theta)**4 + 32*a**2*r*s**2*sin(\\theta)**2 - 24*a**2*s**3*sin(\\theta)**4 + 6*r**5*sin(\\theta)**2 + 16*r**5 - 28*r**4*s*sin(\\theta)**2 - 16*r**4*s + 24*r**3*s**2*sin(\\theta)**2)*sin(\\theta)**2/(r**4*(4*a**2*s**2*sin(\\theta)**2 + r**4 - r**3*s)**2)], [0, a**2*s**2*(-24*a**2*r*s**2*sin(\\theta)**2 + 24*a**2*s**3*sin(\\theta)**2 - 22*r**5 + 36*r**4*s - 15*r**3*s**2)*sin(\\theta)**2/(r**2*(r - s)*(4*a**2*s**2*sin(\\theta)**2 + r**4 - r**3*s)**2) + 0.5*a**2*s**2*(-72*a**2*r*s**2*sin(\\theta)**4 + 32*a**2*r*s**2*sin(\\theta)**2 - 24*a**2*s**3*sin(\\theta)**4 + 6*r**5*sin(\\theta)**2 + 16*r**5 - 28*r**4*s*sin(\\theta)**2 - 16*r**4*s + 24*r**3*s**2*sin(\\theta)**2)/(r**3*(1 - s/r)*(4*a**2*s**2*sin(\\theta)**2 + r**4 - r**3*s)**2), 2*a**2*s**2*(24*a**2*s**2*sin(\\theta)**2 + 10*r**4 - 9*r**3*s)*sin(\\theta)*cos(\\theta)/(r*(4*a**2*s**2*sin(\\theta)**2 + r**4 - r**3*s)**2), 0], [0, 2*a**2*s**2*(24*a**2*s**2*sin(\\theta)**2 + 10*r**4 - 9*r**3*s)*sin(\\theta)*cos(\\theta)/(r*(4*a**2*s**2*sin(\\theta)**2 + r**4 - r**3*s)**2), a**2*s**2*(48*a**2*r*s**2*sin(\\theta)**4 - 24*a**2*s**3*sin(\\theta)**4 + 16*r**5*sin(\\theta)**2 - 4*r**5 - 22*r**4*s*sin(\\theta)**2 + 4*r**4*s + 6*r**3*s**2*sin(\\theta)**2)/(r*(4*a**2*s**2*sin(\\theta)**2 + r**4 - r**3*s)**2) + 0.5*a**2*s**2*(-72*a**2*r*s**2*sin(\\theta)**4 + 32*a**2*r*s**2*sin(\\theta)**2 - 24*a**2*s**3*sin(\\theta)**4 + 6*r**5*sin(\\theta)**2 + 16*r**5 - 28*r**4*s*sin(\\theta)**2 - 16*r**4*s + 24*r**3*s**2*sin(\\theta)**2)/(r*(4*a**2*s**2*sin(\\theta)**2 + r**4 - r**3*s)**2), 0], [a**3*s**3*(-12*r*sin(\\theta)**2 + 8*r - 6*s*sin(\\theta)**2)*sin(\\theta)**2/(r**4*(4*a**2*s**2*sin(\\theta)**2 + r**4 - r**3*s)) - 1.0*a**3*s**3*(-72*a**2*r*s**2*sin(\\theta)**4 + 32*a**2*r*s**2*sin(\\theta)**2 - 24*a**2*s**3*sin(\\theta)**4 + 6*r**5*sin(\\theta)**2 + 16*r**5 - 28*r**4*s*sin(\\theta)**2 - 16*r**4*s + 24*r**3*s**2*sin(\\theta)**2)*sin(\\theta)**2/(r**4*(4*a**2*s**2*sin(\\theta)**2 + r**4 - r**3*s)**2), 0, 0, a**2*s**2*(-6*r*sin(\\theta)**2 - 4*r + 12*s*sin(\\theta)**2)*sin(\\theta)**2/(r*(4*a**2*s**2*sin(\\theta)**2 + r**4 - r**3*s)) + 0.5*a**2*s**2*(-72*a**2*r*s**2*sin(\\theta)**4 + 32*a**2*r*s**2*sin(\\theta)**2 - 24*a**2*s**3*sin(\\theta)**4 + 6*r**5*sin(\\theta)**2 + 16*r**5 - 28*r**4*s*sin(\\theta)**2 - 16*r**4*s + 24*r**3*s**2*sin(\\theta)**2)*sin(\\theta)**2/(r*(4*a**2*s**2*sin(\\theta)**2 + r**4 - r**3*s)**2)]]"
            ],
            "text/latex": "$\\displaystyle \\left[\\begin{matrix}- \\frac{a^{2} s^{2} \\left(0.5 - \\frac{0.5 s}{r}\\right) \\left(- 72 a^{2} r s^{2} \\sin^{4}{\\left(\\theta \\right)} + 32 a^{2} r s^{2} \\sin^{2}{\\left(\\theta \\right)} - 24 a^{2} s^{3} \\sin^{4}{\\left(\\theta \\right)} + 6 r^{5} \\sin^{2}{\\left(\\theta \\right)} + 16 r^{5} - 28 r^{4} s \\sin^{2}{\\left(\\theta \\right)} - 16 r^{4} s + 24 r^{3} s^{2} \\sin^{2}{\\left(\\theta \\right)}\\right)}{r^{3} \\left(4 a^{2} s^{2} \\sin^{2}{\\left(\\theta \\right)} + r^{4} - r^{3} s\\right)^{2}} + \\frac{a^{2} s^{2} \\left(- 6 r^{2} \\sin^{2}{\\left(\\theta \\right)} + 8 r^{2} + 4 r s \\sin^{2}{\\left(\\theta \\right)} - 8 r s + 3 s^{2} \\sin^{2}{\\left(\\theta \\right)}\\right)}{r^{4} \\left(4 a^{2} s^{2} \\sin^{2}{\\left(\\theta \\right)} + r^{4} - r^{3} s\\right)} & 0 & 0 & \\frac{a^{3} s^{3} \\left(- 12 r \\sin^{2}{\\left(\\theta \\right)} + 8 r - 6 s \\sin^{2}{\\left(\\theta \\right)}\\right) \\sin^{2}{\\left(\\theta \\right)}}{r^{4} \\left(4 a^{2} s^{2} \\sin^{2}{\\left(\\theta \\right)} + r^{4} - r^{3} s\\right)} - \\frac{1.0 a^{3} s^{3} \\left(- 72 a^{2} r s^{2} \\sin^{4}{\\left(\\theta \\right)} + 32 a^{2} r s^{2} \\sin^{2}{\\left(\\theta \\right)} - 24 a^{2} s^{3} \\sin^{4}{\\left(\\theta \\right)} + 6 r^{5} \\sin^{2}{\\left(\\theta \\right)} + 16 r^{5} - 28 r^{4} s \\sin^{2}{\\left(\\theta \\right)} - 16 r^{4} s + 24 r^{3} s^{2} \\sin^{2}{\\left(\\theta \\right)}\\right) \\sin^{2}{\\left(\\theta \\right)}}{r^{4} \\left(4 a^{2} s^{2} \\sin^{2}{\\left(\\theta \\right)} + r^{4} - r^{3} s\\right)^{2}}\\\\0 & \\frac{a^{2} s^{2} \\left(- 24 a^{2} r s^{2} \\sin^{2}{\\left(\\theta \\right)} + 24 a^{2} s^{3} \\sin^{2}{\\left(\\theta \\right)} - 22 r^{5} + 36 r^{4} s - 15 r^{3} s^{2}\\right) \\sin^{2}{\\left(\\theta \\right)}}{r^{2} \\left(r - s\\right) \\left(4 a^{2} s^{2} \\sin^{2}{\\left(\\theta \\right)} + r^{4} - r^{3} s\\right)^{2}} + \\frac{0.5 a^{2} s^{2} \\left(- 72 a^{2} r s^{2} \\sin^{4}{\\left(\\theta \\right)} + 32 a^{2} r s^{2} \\sin^{2}{\\left(\\theta \\right)} - 24 a^{2} s^{3} \\sin^{4}{\\left(\\theta \\right)} + 6 r^{5} \\sin^{2}{\\left(\\theta \\right)} + 16 r^{5} - 28 r^{4} s \\sin^{2}{\\left(\\theta \\right)} - 16 r^{4} s + 24 r^{3} s^{2} \\sin^{2}{\\left(\\theta \\right)}\\right)}{r^{3} \\left(1 - \\frac{s}{r}\\right) \\left(4 a^{2} s^{2} \\sin^{2}{\\left(\\theta \\right)} + r^{4} - r^{3} s\\right)^{2}} & \\frac{2 a^{2} s^{2} \\left(24 a^{2} s^{2} \\sin^{2}{\\left(\\theta \\right)} + 10 r^{4} - 9 r^{3} s\\right) \\sin{\\left(\\theta \\right)} \\cos{\\left(\\theta \\right)}}{r \\left(4 a^{2} s^{2} \\sin^{2}{\\left(\\theta \\right)} + r^{4} - r^{3} s\\right)^{2}} & 0\\\\0 & \\frac{2 a^{2} s^{2} \\left(24 a^{2} s^{2} \\sin^{2}{\\left(\\theta \\right)} + 10 r^{4} - 9 r^{3} s\\right) \\sin{\\left(\\theta \\right)} \\cos{\\left(\\theta \\right)}}{r \\left(4 a^{2} s^{2} \\sin^{2}{\\left(\\theta \\right)} + r^{4} - r^{3} s\\right)^{2}} & \\frac{a^{2} s^{2} \\left(48 a^{2} r s^{2} \\sin^{4}{\\left(\\theta \\right)} - 24 a^{2} s^{3} \\sin^{4}{\\left(\\theta \\right)} + 16 r^{5} \\sin^{2}{\\left(\\theta \\right)} - 4 r^{5} - 22 r^{4} s \\sin^{2}{\\left(\\theta \\right)} + 4 r^{4} s + 6 r^{3} s^{2} \\sin^{2}{\\left(\\theta \\right)}\\right)}{r \\left(4 a^{2} s^{2} \\sin^{2}{\\left(\\theta \\right)} + r^{4} - r^{3} s\\right)^{2}} + \\frac{0.5 a^{2} s^{2} \\left(- 72 a^{2} r s^{2} \\sin^{4}{\\left(\\theta \\right)} + 32 a^{2} r s^{2} \\sin^{2}{\\left(\\theta \\right)} - 24 a^{2} s^{3} \\sin^{4}{\\left(\\theta \\right)} + 6 r^{5} \\sin^{2}{\\left(\\theta \\right)} + 16 r^{5} - 28 r^{4} s \\sin^{2}{\\left(\\theta \\right)} - 16 r^{4} s + 24 r^{3} s^{2} \\sin^{2}{\\left(\\theta \\right)}\\right)}{r \\left(4 a^{2} s^{2} \\sin^{2}{\\left(\\theta \\right)} + r^{4} - r^{3} s\\right)^{2}} & 0\\\\\\frac{a^{3} s^{3} \\left(- 12 r \\sin^{2}{\\left(\\theta \\right)} + 8 r - 6 s \\sin^{2}{\\left(\\theta \\right)}\\right) \\sin^{2}{\\left(\\theta \\right)}}{r^{4} \\left(4 a^{2} s^{2} \\sin^{2}{\\left(\\theta \\right)} + r^{4} - r^{3} s\\right)} - \\frac{1.0 a^{3} s^{3} \\left(- 72 a^{2} r s^{2} \\sin^{4}{\\left(\\theta \\right)} + 32 a^{2} r s^{2} \\sin^{2}{\\left(\\theta \\right)} - 24 a^{2} s^{3} \\sin^{4}{\\left(\\theta \\right)} + 6 r^{5} \\sin^{2}{\\left(\\theta \\right)} + 16 r^{5} - 28 r^{4} s \\sin^{2}{\\left(\\theta \\right)} - 16 r^{4} s + 24 r^{3} s^{2} \\sin^{2}{\\left(\\theta \\right)}\\right) \\sin^{2}{\\left(\\theta \\right)}}{r^{4} \\left(4 a^{2} s^{2} \\sin^{2}{\\left(\\theta \\right)} + r^{4} - r^{3} s\\right)^{2}} & 0 & 0 & \\frac{a^{2} s^{2} \\left(- 6 r \\sin^{2}{\\left(\\theta \\right)} - 4 r + 12 s \\sin^{2}{\\left(\\theta \\right)}\\right) \\sin^{2}{\\left(\\theta \\right)}}{r \\left(4 a^{2} s^{2} \\sin^{2}{\\left(\\theta \\right)} + r^{4} - r^{3} s\\right)} + \\frac{0.5 a^{2} s^{2} \\left(- 72 a^{2} r s^{2} \\sin^{4}{\\left(\\theta \\right)} + 32 a^{2} r s^{2} \\sin^{2}{\\left(\\theta \\right)} - 24 a^{2} s^{3} \\sin^{4}{\\left(\\theta \\right)} + 6 r^{5} \\sin^{2}{\\left(\\theta \\right)} + 16 r^{5} - 28 r^{4} s \\sin^{2}{\\left(\\theta \\right)} - 16 r^{4} s + 24 r^{3} s^{2} \\sin^{2}{\\left(\\theta \\right)}\\right) \\sin^{2}{\\left(\\theta \\right)}}{r \\left(4 a^{2} s^{2} \\sin^{2}{\\left(\\theta \\right)} + r^{4} - r^{3} s\\right)^{2}}\\end{matrix}\\right]$"
          },
          "metadata": {},
          "execution_count": 20
        }
      ]
    },
    {
      "cell_type": "markdown",
      "source": [
        "Podemos ver un conjunto de valores bastante amplio y un poco confuso, sin embargo podemos mostrar que si descartamos los términos de orden superior según la aproximación, estos tensores cumplirán con la ecuación de campo métrico."
      ],
      "metadata": {
        "id": "elt-qs50087Q"
      }
    },
    {
      "cell_type": "code",
      "source": [
        "Rk_simplified = [[None for _ in range(4)] for _ in range(4)]\n",
        "\n",
        "for i in range(4):\n",
        "    for j in range(4):\n",
        "        component = Rk.tensor()[i, j]\n",
        "        simplified_component = sp.series(component, a, 0, 2).removeO()\n",
        "        simplified_component = simplified_component.subs(a, a)\n",
        "        Rk_simplified[i][j] = simplified_component\n",
        "\n",
        "for i in range(4):\n",
        "    for j in range(4):\n",
        "        if sp.simplify(Rk_simplified[i][j]) != 0:\n",
        "            print(f\"R_{{{i}{j}}} =\", Rk_simplified[i][j])\n",
        "        else:\n",
        "          print(f\"R_{{{i}{j}}} = \", Rk_simplified[i][j])"
      ],
      "metadata": {
        "colab": {
          "base_uri": "https://localhost:8080/"
        },
        "id": "URK5nH2FT5Re",
        "outputId": "dfb042cd-27d7-43a1-ce20-cf3ea78c3eb7"
      },
      "execution_count": null,
      "outputs": [
        {
          "output_type": "stream",
          "name": "stdout",
          "text": [
            "R_{00} =  0\n",
            "R_{01} =  0\n",
            "R_{02} =  0\n",
            "R_{03} =  0\n",
            "R_{10} =  0\n",
            "R_{11} =  0\n",
            "R_{12} =  0\n",
            "R_{13} =  0\n",
            "R_{20} =  0\n",
            "R_{21} =  0\n",
            "R_{22} =  0\n",
            "R_{23} =  0\n",
            "R_{30} =  0\n",
            "R_{31} =  0\n",
            "R_{32} =  0\n",
            "R_{33} =  0\n"
          ]
        }
      ]
    },
    {
      "cell_type": "code",
      "source": [
        "Gk_simplified = [[None for _ in range(4)] for _ in range(4)]\n",
        "\n",
        "for i in range(4):\n",
        "    for j in range(4):\n",
        "        component = Gk.tensor()[i, j]\n",
        "        simplified_component = sp.series(component, a, 0, 2).removeO()\n",
        "        simplified_component = simplified_component.subs(a, a)\n",
        "        Gk_simplified[i][j] = simplified_component\n",
        "\n",
        "for i in range(4):\n",
        "    for j in range(4):\n",
        "        if sp.simplify(Gk_simplified[i][j]) != 0:\n",
        "            print(f\"E_{{{i}{j}}} =\", Gk_simplified[i][j])\n",
        "        else:\n",
        "          print(f\"E_{{{i}{j}}} = \", Gk_simplified[i][j])"
      ],
      "metadata": {
        "colab": {
          "base_uri": "https://localhost:8080/"
        },
        "id": "2fB9JLQuVaqU",
        "outputId": "7f9d9529-532a-4a36-bd40-2248d9570525"
      },
      "execution_count": null,
      "outputs": [
        {
          "output_type": "stream",
          "name": "stdout",
          "text": [
            "E_{00} =  0\n",
            "E_{01} =  0\n",
            "E_{02} =  0\n",
            "E_{03} =  0\n",
            "E_{10} =  0\n",
            "E_{11} =  0\n",
            "E_{12} =  0\n",
            "E_{13} =  0\n",
            "E_{20} =  0\n",
            "E_{21} =  0\n",
            "E_{22} =  0\n",
            "E_{23} =  0\n",
            "E_{30} =  0\n",
            "E_{31} =  0\n",
            "E_{32} =  0\n",
            "E_{33} =  0\n"
          ]
        }
      ]
    },
    {
      "cell_type": "markdown",
      "source": [
        "De esta forma logramos ver que ambos tensores cumplen justamente con que $R_{\\mu\\nu}\\approx0$ y $G_{\\mu\\nu}\\approx0$"
      ],
      "metadata": {
        "id": "cgZBu64k1LtL"
      }
    }
  ]
}